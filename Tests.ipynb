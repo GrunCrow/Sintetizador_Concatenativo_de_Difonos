{
 "cells": [
  {
   "cell_type": "markdown",
   "source": [
    "# Tests Notebook\n",
    "\n",
    "Notebook to develop the main code"
   ],
   "metadata": {
    "collapsed": false,
    "pycharm": {
     "name": "#%% md\n"
    }
   }
  },
  {
   "cell_type": "code",
   "execution_count": 40,
   "outputs": [],
   "source": [
    "#                                   Libraries\n",
    "import os\n",
    "\n",
    "# to use praat\n",
    "import parselmouth\n",
    "from parselmouth import Sound, praat, TextGrid"
   ],
   "metadata": {
    "collapsed": false,
    "pycharm": {
     "name": "#%%\n"
    }
   }
  },
  {
   "cell_type": "code",
   "execution_count": 41,
   "outputs": [],
   "source": [
    "#                                   Constants\n",
    "corpus_folder = \"corpus\"\n",
    "auxiliar_folder = \"auxiliar\"\n",
    "labeled_intervals_to_wav = \"save_labeled_intervals_to_wav_sound_files.praat\"\n",
    "\n",
    "variable = \"test\" # variable de test para probar git push\n",
    "\n",
    "file_name = \"auxiliar/manipular-pitch/12345.wav\"\n",
    "script_name = \"auxiliar/save_labeled_intervals_to_wav_sound_files.praat\""
   ],
   "metadata": {
    "collapsed": false,
    "pycharm": {
     "name": "#%%\n"
    }
   }
  },
  {
   "cell_type": "code",
   "execution_count": 42,
   "outputs": [],
   "source": [
    "assert os.path.exists(file_name) and os.path.exists(script_name), \"ERROR\""
   ],
   "metadata": {
    "collapsed": false,
    "pycharm": {
     "name": "#%%\n"
    }
   }
  },
  {
   "cell_type": "code",
   "execution_count": 97,
   "outputs": [],
   "source": [
    "tier = 1    # (int) Which IntervalTier in this TextGrid would you like to process?\n",
    "Start_from = 1  # (int) Starting at which interval?\n",
    "End_at = 0  # (int) ending at which interval?\n",
    "Exclude_empty_labels = True # (boolean)\n",
    "Exclude_intervals_labeled_as_xxx = True # (boolean)\n",
    "Exclude_intervals_starting_with_dot = True  # (boolean)\n",
    "positive_Margin = 0.0001  # (float) Give a small margin for the files if you like (seconds)\n",
    "sentence_Folder = \"corpus/\"   # Give the folder where to save the sound files\n",
    "sentence_Prefix = \"TMP_\"  # Give an optional prefix for all filenames:\n",
    "sentence_Suffix = \"\"    # Give an optional suffix for all filenames (.wav will be added anyway):\n",
    "\n",
    "parameters = [tier, Start_from, End_at, Exclude_empty_labels, Exclude_intervals_labeled_as_xxx, Exclude_intervals_starting_with_dot, positive_Margin, sentence_Folder, sentence_Prefix, sentence_Suffix]\n",
    "\n",
    "snd = Sound(file_name)\n",
    "# snd.save(\"tests/test.wav\",\"WAV\")\n",
    "\n",
    "tgt = TextGrid(0,1,\"Mary John bell\",\"bell\")\n",
    "# tgt.save(\"tests/test.TextGrid\")\n",
    "\n",
    "objects = [tgt, snd]\n",
    "\n",
    "# So the everything before the script (script_name) are selected objects, Everything after are arguments to this form\n",
    "resulting_objects = praat.run_file(objects, script_name, tier, Start_from, End_at, Exclude_empty_labels, Exclude_intervals_labeled_as_xxx, Exclude_intervals_starting_with_dot, positive_Margin, sentence_Folder, sentence_Prefix, sentence_Suffix)\n",
    "\n",
    "for idx, resulting_object in enumerate(resulting_objects):\n",
    "    resulting_objects[idx].save(\"tests/result_\" + idx + \".TextGrid\")"
   ],
   "metadata": {
    "collapsed": false,
    "pycharm": {
     "name": "#%%\n"
    }
   }
  },
  {
   "cell_type": "code",
   "execution_count": 98,
   "outputs": [],
   "source": [
    "'''\n",
    "1. TODO Diseñar y grabar el inventario de sonidos (difonos), en mono, 16kHz, 16 bits.\n",
    "2. TODO En Praat, etiquetar los difonos en una capa de intervalos (interval tier) en un archivo TextGrid.\n",
    "3. TODO Recortar los difonos y generar un archivo wav para cada uno.\n",
    "4. TODO Crear un programa que, dada una secuencia de fonos, concatene los archivos de los\n",
    "difonos correspondientes, genere un archivo wav y (de ser necesario) modifique su\n",
    "prosodia.\n",
    "\n",
    "    • El programa debe funcionar en modo batch (no interactivo), recibiendo como\n",
    "    únicos argumentos la secuencia de fonos a sintetizar y el nombre del archivo\n",
    "    wav a crear. Ejemplo:\n",
    "\n",
    "    python tts.py EsemeketrEfe? /tmp/output.wav\n",
    "\n",
    "    • La salida debe guardarse como un archivo wav (mono, 16kHz, 16 bits).\n",
    "    • TODO El programa tendrá además dos opciones\n",
    "        i.  Reproducir automáticamente el audio\n",
    "        ii. no reproducir automáticamente el audio.\n",
    "'''\n",
    "\n",
    "#                                   Libraries\n",
    "import os\n",
    "\n",
    "# to use praat\n",
    "import parselmouth\n",
    "from parselmouth import Sound, praat, TextGrid\n",
    "\n",
    "#                                   Constants\n",
    "corpus_folder = \"corpus/\"\n",
    "auxiliar_folder = \"auxiliar/\"\n",
    "labeled_intervals_to_wav = \"save_labeled_intervals_to_wav_sound_files.praat\"\n",
    "\n",
    "# todo generalizar funcion para cualquier script -> meter todos los datos en listas para que corra de cualquier manera\n",
    "def callPraatScript(file_name, script_name):\n",
    "    # Check that all the parameters exists\n",
    "    assert os.path.exists(file_name) and os.path.exists(script_name), \"ERROR\"\n",
    "\n",
    "    # constant parameters for the script\n",
    "    tier = 1  # (int) Which IntervalTier in this TextGrid would you like to process?\n",
    "    Start_from = 1  # (int) Starting at which interval?\n",
    "    End_at = 0  # (int) ending at which interval?\n",
    "    Exclude_empty_labels = True  # (boolean)\n",
    "    Exclude_intervals_labeled_as_xxx = True  # (boolean)\n",
    "    Exclude_intervals_starting_with_dot = True  # (boolean)\n",
    "    positive_Margin = 0.0001  # (float) Give a small margin for the files if you like (seconds)\n",
    "    sentence_Folder = \"corpus/\"  # Give the folder where to save the sound files\n",
    "    sentence_Prefix = \"TMP_\"  # Give an optional prefix for all filenames:\n",
    "    sentence_Suffix = \"\"  # Give an optional suffix for all filenames (.wav will be added anyway):\n",
    "\n",
    "    # parameters = [tier, Start_from, End_at, Exclude_empty_labels, Exclude_intervals_labeled_as_xxx,\n",
    "    #              Exclude_intervals_starting_with_dot, positive_Margin, sentence_Folder, sentence_Prefix,\n",
    "    #              sentence_Suffix]\n",
    "\n",
    "    snd = Sound(file_name)\n",
    "    # snd.save(\"tests/test.wav\",\"WAV\")\n",
    "\n",
    "    tgt = TextGrid(0, 1, \"Mary John bell\", \"bell\")\n",
    "    # tgt.save(\"tests/test.TextGrid\")\n",
    "\n",
    "    objects = [tgt, snd]\n",
    "\n",
    "    # So the everything before the script (script_name) are selected objects, Everything after are arguments to this form\n",
    "    resulting_objects = praat.run_file(objects, script_name, tier, Start_from, End_at, Exclude_empty_labels,\n",
    "                                       Exclude_intervals_labeled_as_xxx, Exclude_intervals_starting_with_dot,\n",
    "                                       positive_Margin, sentence_Folder, sentence_Prefix, sentence_Suffix)\n",
    "\n",
    "    # assert that resulting_objects its not empty\n",
    "    assert resulting_objects\n",
    "\n",
    "    # if we want to save the results in the folder tests/Results_idx + .TextGrid\n",
    "    for idx, resulting_object in enumerate(resulting_objects):\n",
    "        resulting_objects[idx].save(\"tests/result_\" + str(idx) + \".TextGrid\")\n",
    "\n",
    "    return resulting_objects\n",
    "\n",
    "# test the function\n",
    "file_name = \"auxiliar/manipular-pitch/12345.wav\"\n",
    "script_name = \"auxiliar/save_labeled_intervals_to_wav_sound_files.praat\"\n",
    "\n",
    "resulting_objects = callPraatScript(file_name, script_name)\n"
   ],
   "metadata": {
    "collapsed": false,
    "pycharm": {
     "name": "#%%\n"
    }
   }
  },
  {
   "cell_type": "code",
   "execution_count": 100,
   "outputs": [
    {
     "ename": "PraatError",
     "evalue": "Found 0 arguments but expected more.\r\nScript not completed.\r",
     "output_type": "error",
     "traceback": [
      "\u001B[1;31m---------------------------------------------------------------------------\u001B[0m",
      "\u001B[1;31mPraatError\u001B[0m                                Traceback (most recent call last)",
      "Cell \u001B[1;32mIn[100], line 1\u001B[0m\n\u001B[1;32m----> 1\u001B[0m \u001B[43mpraat\u001B[49m\u001B[38;5;241;43m.\u001B[39;49m\u001B[43mrun_file\u001B[49m\u001B[43m(\u001B[49m\u001B[43mscript_name\u001B[49m\u001B[43m)\u001B[49m\n",
      "\u001B[1;31mPraatError\u001B[0m: Found 0 arguments but expected more.\r\nScript not completed.\r"
     ]
    }
   ],
   "source": [],
   "metadata": {
    "collapsed": false,
    "pycharm": {
     "name": "#%%\n"
    }
   }
  },
  {
   "cell_type": "code",
   "execution_count": 104,
   "outputs": [],
   "source": [],
   "metadata": {
    "collapsed": false,
    "pycharm": {
     "name": "#%%\n"
    }
   }
  },
  {
   "cell_type": "code",
   "execution_count": 73,
   "outputs": [
    {
     "ename": "PraatError",
     "evalue": "Found 12 arguments but expected only 0.\r\nScript not completed.\r",
     "output_type": "error",
     "traceback": [
      "\u001B[1;31m---------------------------------------------------------------------------\u001B[0m",
      "\u001B[1;31mPraatError\u001B[0m                                Traceback (most recent call last)",
      "Cell \u001B[1;32mIn[73], line 2\u001B[0m\n\u001B[0;32m      1\u001B[0m \u001B[38;5;66;03m# So the everything before the script (script_name) are selected objects, Everything after are arguments to this form\u001B[39;00m\n\u001B[1;32m----> 2\u001B[0m resulting_objects \u001B[38;5;241m=\u001B[39m \u001B[43mpraat\u001B[49m\u001B[38;5;241;43m.\u001B[39;49m\u001B[43mrun_file\u001B[49m\u001B[43m(\u001B[49m\u001B[43mtgt\u001B[49m\u001B[43m,\u001B[49m\u001B[43m \u001B[49m\u001B[43msnd\u001B[49m\u001B[43m,\u001B[49m\u001B[43m \u001B[49m\u001B[43mfile_name\u001B[49m\u001B[43m,\u001B[49m\u001B[43m \u001B[49m\u001B[43mtier\u001B[49m\u001B[43m,\u001B[49m\u001B[43m \u001B[49m\u001B[43mStart_from\u001B[49m\u001B[43m,\u001B[49m\u001B[43m \u001B[49m\u001B[43mEnd_at\u001B[49m\u001B[43m,\u001B[49m\u001B[43m \u001B[49m\u001B[43mExclude_empty_labels\u001B[49m\u001B[43m,\u001B[49m\u001B[43m \u001B[49m\u001B[43mExclude_intervals_labeled_as_xxx\u001B[49m\u001B[43m,\u001B[49m\u001B[43m \u001B[49m\u001B[43mExclude_intervals_starting_with_dot\u001B[49m\u001B[43m,\u001B[49m\u001B[43m \u001B[49m\u001B[43mpositive_Margin\u001B[49m\u001B[43m,\u001B[49m\u001B[43m \u001B[49m\u001B[43msentence_Folder\u001B[49m\u001B[43m,\u001B[49m\u001B[43m \u001B[49m\u001B[43msentence_Prefix\u001B[49m\u001B[43m,\u001B[49m\u001B[43m \u001B[49m\u001B[43msentence_Suffix\u001B[49m\u001B[43m)\u001B[49m\n",
      "\u001B[1;31mPraatError\u001B[0m: Found 12 arguments but expected only 0.\r\nScript not completed.\r"
     ]
    }
   ],
   "source": [],
   "metadata": {
    "collapsed": false,
    "pycharm": {
     "name": "#%%\n"
    }
   }
  },
  {
   "cell_type": "code",
   "execution_count": null,
   "metadata": {
    "collapsed": true,
    "pycharm": {
     "name": "#%%\n"
    }
   },
   "outputs": [],
   "source": [
    "def callPraatScript(file_name, script_name=auxiliar_folder + labeled_intervals_to_wav):\n",
    "    # Check that all the parameters exists\n",
    "\n",
    "    # os.system(\"Praat.exe \" + script_name + \" \" + file_name)\n",
    "    resulting_objects = parselmouth.praat.run_file(script_name, file_name)\n",
    "\n",
    "    return resulting_objects"
   ]
  }
 ],
 "metadata": {
  "kernelspec": {
   "display_name": "Python 3",
   "language": "python",
   "name": "python3"
  },
  "language_info": {
   "codemirror_mode": {
    "name": "ipython",
    "version": 2
   },
   "file_extension": ".py",
   "mimetype": "text/x-python",
   "name": "python",
   "nbconvert_exporter": "python",
   "pygments_lexer": "ipython2",
   "version": "2.7.6"
  }
 },
 "nbformat": 4,
 "nbformat_minor": 0
}