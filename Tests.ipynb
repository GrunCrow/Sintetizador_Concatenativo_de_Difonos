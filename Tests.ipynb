{
 "cells": [
  {
   "cell_type": "markdown",
   "metadata": {
    "pycharm": {
     "name": "#%% md\n"
    }
   },
   "source": [
    "# Tests Notebook\n",
    "\n",
    "Notebook to develop the main code"
   ]
  },
  {
   "cell_type": "code",
   "execution_count": 78,
   "metadata": {
    "collapsed": false,
    "jupyter": {
     "outputs_hidden": false
    },
    "pycharm": {
     "name": "#%%\n"
    }
   },
   "outputs": [],
   "source": [
    "#                                   Libraries\n",
    "import os\n",
    "\n",
    "# to use praat\n",
    "import parselmouth\n",
    "from parselmouth import Sound, praat, TextGrid"
   ]
  },
  {
   "cell_type": "code",
   "execution_count": 79,
   "metadata": {
    "collapsed": false,
    "jupyter": {
     "outputs_hidden": false
    },
    "pycharm": {
     "name": "#%%\n"
    }
   },
   "outputs": [],
   "source": [
    "#                                   Constants\n",
    "corpus_folder = \"corpus/\"\n",
    "auxiliar_folder = \"auxiliar/\"\n",
    "labeled_intervals_to_wav = \"save_labeled_intervals_to_wav_sound_files.praat\"\n",
    "\n",
    "variable = \"test\" # variable de test para probar git push\n",
    "\n",
    "file_name = \"auxiliar/manipular-pitch/12345.wav\"\n",
    "script_name = \"auxiliar/save_labeled_intervals_to_wav_sound_files.praat\""
   ]
  },
  {
   "cell_type": "code",
   "execution_count": 80,
   "metadata": {
    "collapsed": false,
    "jupyter": {
     "outputs_hidden": false
    },
    "pycharm": {
     "name": "#%%\n"
    }
   },
   "outputs": [],
   "source": [
    "assert os.path.exists(file_name) and os.path.exists(script_name), \"ERROR\""
   ]
  },
  {
   "cell_type": "code",
   "execution_count": 80,
   "outputs": [],
   "source": [],
   "metadata": {
    "collapsed": false,
    "pycharm": {
     "name": "#%%\n"
    }
   }
  },
  {
   "cell_type": "code",
   "execution_count": 81,
   "outputs": [],
   "source": [
    "#                                                   Auxiliar Functions\n",
    "\n",
    "def get_files_from_folder(folder, ext):\n",
    "\n",
    "    audiofiles = []\n",
    "    for file in os.listdir(folder):\n",
    "        if file.endswith(ext):\n",
    "            audiofiles.append(folder + file)\n",
    "    return audiofiles"
   ],
   "metadata": {
    "collapsed": false,
    "pycharm": {
     "name": "#%%\n"
    }
   }
  },
  {
   "cell_type": "code",
   "execution_count": 82,
   "outputs": [
    {
     "data": {
      "text/plain": "['Frases para Extracción de Difonos/Efre.marks',\n 'Frases para Extracción de Difonos/emEkre.marks',\n 'Frases para Extracción de Difonos/feketEs.marks',\n 'Frases para Extracción de Difonos/frEk.marks',\n 'Frases para Extracción de Difonos/ketrEm.marks',\n 'Frases para Extracción de Difonos/krEref.marks',\n 'Frases para Extracción de Difonos/meresE.marks',\n 'Frases para Extracción de Difonos/sefEte.marks',\n 'Frases para Extracción de Difonos/tefekE.marks',\n 'Frases para Extracción de Difonos/trEt.marks']"
     },
     "execution_count": 82,
     "metadata": {},
     "output_type": "execute_result"
    }
   ],
   "source": [
    "path_to_files = \"Frases para Extracción de Difonos/\"\n",
    "marks_files = get_files_from_folder(path_to_files, \".marks\")\n",
    "\n",
    "script_name = \"auxiliar/save_labeled_intervals_to_wav_sound_files.praat\"\n",
    "saving_folder = \"diphones/\"\n",
    "\n",
    "marks_files"
   ],
   "metadata": {
    "collapsed": false,
    "pycharm": {
     "name": "#%%\n"
    }
   }
  },
  {
   "cell_type": "code",
   "execution_count": 88,
   "outputs": [],
   "source": [
    "def get_marks_content(file):\n",
    "    '''\n",
    "    Get the content of a mark file in a dictionary\n",
    "\n",
    "    :param file: filename with the path\n",
    "    :return: file_content_dictionary, dictionary with the content of the filename\n",
    "\n",
    "    '''\n",
    "\n",
    "    filename = open(file, 'r')\n",
    "    Lines = filename.readlines()\n",
    "\n",
    "    # how we are going to split the data of the file\n",
    "    file_content_dictionary = {\n",
    "        \"time\": [],\n",
    "        \"type\": [],\n",
    "        \"start\": [],\n",
    "        \"end\": [],\n",
    "        \"value\": []\n",
    "    }\n",
    "\n",
    "    for string in Lines:\n",
    "\n",
    "        # clean characters that we dont want to use\n",
    "        string = string.replace(\"{\", \"\")\n",
    "        string = string.replace(\"}\", \"\")\n",
    "        string = string.replace(\"\\\"\", \"\")\n",
    "        string = string.replace(\"\\n\", \"\")\n",
    "\n",
    "        # split by each value\n",
    "        str_content = string.split(\",\")\n",
    "\n",
    "        # for each content of the string, add it to the dict\n",
    "        for idx, content in enumerate(str_content):\n",
    "            # if we have \"time\":125 we will save the value of the str (125), as we are separating it in 2, by the :\n",
    "            content_key_from_dict = str_content[idx].split(\":\")[0]\n",
    "            content_value = str_content[idx].split(\":\")[1]\n",
    "\n",
    "            file_content_dictionary[content_key_from_dict].append(content_value)\n",
    "\n",
    "    return file_content_dictionary\n",
    "\n",
    "\n",
    "def get_parameters_from_dictionary(content_dictionary, line_to_start = 14):\n",
    "    n_file_lines = len(content_dictionary[\"time\"])\n",
    "\n",
    "    value = []\n",
    "    start_time = []\n",
    "    end_time = []\n",
    "\n",
    "    flag_founded = False\n",
    "    for line in range(line_to_start, n_file_lines - 1):\n",
    "        if content_dictionary[\"type\"][line] != \"word\":\n",
    "\n",
    "            value.append(content_dictionary[\"value\"][line])\n",
    "\n",
    "            start_time.append((int(content_dictionary[\"time\"][line])) / 1000)\n",
    "            end_time.append(int((content_dictionary[\"time\"][line + 1])) / 1000)\n",
    "        else:\n",
    "            flag_founded -= True\n",
    "\n",
    "        if flag_founded: break\n",
    "\n",
    "    return value, start_time, end_time\n",
    "\n",
    "def callPraatScript(file_name, script_name, start_interval, end_interval, folder, saving_name):\n",
    "    # Check that all the parameters exists\n",
    "    assert os.path.exists(file_name) and os.path.exists(script_name), \"ERROR\"\n",
    "\n",
    "    # constant parameters for the script\n",
    "    tier = 1  # (int) Which IntervalTier in this TextGrid would you like to process?\n",
    "    Start_from = start_interval  # (int) Starting at which interval?\n",
    "    End_at = end_interval  # (int) ending at which interval?\n",
    "    Exclude_empty_labels = True  # (boolean)\n",
    "    Exclude_intervals_labeled_as_xxx = True  # (boolean)\n",
    "    Exclude_intervals_starting_with_dot = True  # (boolean)\n",
    "    positive_Margin = 0.0001  # (float) Give a small margin for the files if you like (seconds)\n",
    "    sentence_Folder = folder  # Give the folder where to save the sound files\n",
    "    sentence_Prefix = saving_name  # Give an optional prefix for all filenames:\n",
    "    sentence_Suffix = \"\"  # Give an optional suffix for all filenames (.wav will be added anyway):\n",
    "\n",
    "    # parameters = [tier, Start_from, End_at, Exclude_empty_labels, Exclude_intervals_labeled_as_xxx,\n",
    "    #              Exclude_intervals_starting_with_dot, positive_Margin, sentence_Folder, sentence_Prefix,\n",
    "    #              sentence_Suffix]\n",
    "\n",
    "    snd = Sound(file_name)\n",
    "    # snd.save(\"tests/test.wav\",\"WAV\")\n",
    "\n",
    "    tgt = TextGrid(float(start_interval), float(end_interval), \"Mary John bell\", \"bell\")\n",
    "    # tgt.save(\"tests/test.TextGrid\")\n",
    "\n",
    "    objects = [tgt, snd]\n",
    "\n",
    "    # So the everything before the script (script_name) are selected objects, Everything after are arguments to this form\n",
    "    praat.run_file(objects, script_name, tier, Start_from, End_at, Exclude_empty_labels,\n",
    "                   Exclude_intervals_labeled_as_xxx, Exclude_intervals_starting_with_dot,\n",
    "                   positive_Margin, sentence_Folder, sentence_Prefix, sentence_Suffix)"
   ],
   "metadata": {
    "collapsed": false,
    "pycharm": {
     "name": "#%%\n"
    }
   }
  },
  {
   "cell_type": "code",
   "execution_count": 88,
   "outputs": [],
   "source": [],
   "metadata": {
    "collapsed": false,
    "pycharm": {
     "name": "#%%\n"
    }
   }
  },
  {
   "cell_type": "code",
   "execution_count": 90,
   "outputs": [
    {
     "name": "stdout",
     "output_type": "stream",
     "text": [
      "[0.937, 1.0, 1.062, 1.137] [1.0, 1.062, 1.137, 1.25]\n",
      "e 0.937 1.0\n",
      "f 1.0 1.062\n",
      "t 1.062 1.137\n"
     ]
    },
    {
     "ename": "PraatError",
     "evalue": "There are not that many intervals in the IntervalTier!\r\nScript not completed.\r",
     "output_type": "error",
     "traceback": [
      "\u001B[1;31m---------------------------------------------------------------------------\u001B[0m",
      "\u001B[1;31mPraatError\u001B[0m                                Traceback (most recent call last)",
      "Cell \u001B[1;32mIn[90], line 26\u001B[0m\n\u001B[0;32m     23\u001B[0m \u001B[38;5;28mprint\u001B[39m(phone, \u001B[38;5;28mfloat\u001B[39m(start[idx]), \u001B[38;5;28mfloat\u001B[39m(end[idx]))\n\u001B[0;32m     24\u001B[0m \u001B[38;5;66;03m# callPraatScript(file, script_name, 0.125, 0.187, saving_folder, saving_name)\u001B[39;00m\n\u001B[1;32m---> 26\u001B[0m \u001B[43mcallPraatScript\u001B[49m\u001B[43m(\u001B[49m\u001B[43mfile\u001B[49m\u001B[43m,\u001B[49m\u001B[43m \u001B[49m\u001B[43mscript_name\u001B[49m\u001B[43m,\u001B[49m\u001B[43m \u001B[49m\u001B[38;5;28;43mfloat\u001B[39;49m\u001B[43m(\u001B[49m\u001B[43mstart\u001B[49m\u001B[43m[\u001B[49m\u001B[43midx\u001B[49m\u001B[43m]\u001B[49m\u001B[43m)\u001B[49m\u001B[43m,\u001B[49m\u001B[43m \u001B[49m\u001B[38;5;28;43mfloat\u001B[39;49m\u001B[43m(\u001B[49m\u001B[43mend\u001B[49m\u001B[43m[\u001B[49m\u001B[43midx\u001B[49m\u001B[43m]\u001B[49m\u001B[43m)\u001B[49m\u001B[43m,\u001B[49m\u001B[43m \u001B[49m\u001B[43msaving_folder\u001B[49m\u001B[43m,\u001B[49m\u001B[43m \u001B[49m\u001B[43msaving_name\u001B[49m\u001B[43m)\u001B[49m\n",
      "Cell \u001B[1;32mIn[88], line 95\u001B[0m, in \u001B[0;36mcallPraatScript\u001B[1;34m(file_name, script_name, start_interval, end_interval, folder, saving_name)\u001B[0m\n\u001B[0;32m     92\u001B[0m objects \u001B[38;5;241m=\u001B[39m [tgt, snd]\n\u001B[0;32m     94\u001B[0m \u001B[38;5;66;03m# So the everything before the script (script_name) are selected objects, Everything after are arguments to this form\u001B[39;00m\n\u001B[1;32m---> 95\u001B[0m \u001B[43mpraat\u001B[49m\u001B[38;5;241;43m.\u001B[39;49m\u001B[43mrun_file\u001B[49m\u001B[43m(\u001B[49m\u001B[43mobjects\u001B[49m\u001B[43m,\u001B[49m\u001B[43m \u001B[49m\u001B[43mscript_name\u001B[49m\u001B[43m,\u001B[49m\u001B[43m \u001B[49m\u001B[43mtier\u001B[49m\u001B[43m,\u001B[49m\u001B[43m \u001B[49m\u001B[43mStart_from\u001B[49m\u001B[43m,\u001B[49m\u001B[43m \u001B[49m\u001B[43mEnd_at\u001B[49m\u001B[43m,\u001B[49m\u001B[43m \u001B[49m\u001B[43mExclude_empty_labels\u001B[49m\u001B[43m,\u001B[49m\n\u001B[0;32m     96\u001B[0m \u001B[43m               \u001B[49m\u001B[43mExclude_intervals_labeled_as_xxx\u001B[49m\u001B[43m,\u001B[49m\u001B[43m \u001B[49m\u001B[43mExclude_intervals_starting_with_dot\u001B[49m\u001B[43m,\u001B[49m\n\u001B[0;32m     97\u001B[0m \u001B[43m               \u001B[49m\u001B[43mpositive_Margin\u001B[49m\u001B[43m,\u001B[49m\u001B[43m \u001B[49m\u001B[43msentence_Folder\u001B[49m\u001B[43m,\u001B[49m\u001B[43m \u001B[49m\u001B[43msentence_Prefix\u001B[49m\u001B[43m,\u001B[49m\u001B[43m \u001B[49m\u001B[43msentence_Suffix\u001B[49m\u001B[43m)\u001B[49m\n",
      "\u001B[1;31mPraatError\u001B[0m: There are not that many intervals in the IntervalTier!\r\nScript not completed.\r"
     ]
    }
   ],
   "source": [
    "marks_files = []\n",
    "f1 = \"Frases para Extracción de Difonos/Efre.marks\"\n",
    "f2 = \"Frases para Extracción de Difonos/emEkre.marks\"\n",
    "marks_files.append(f1)\n",
    "marks_files.append(f2)\n",
    "\n",
    "for file in marks_files:\n",
    "\n",
    "    file_content_dictionary = get_marks_content(file)\n",
    "\n",
    "    file = file.replace(\".marks\", \".mp3\")\n",
    "\n",
    "    filename = file.split(\"/\")[1].replace(\".mp3\",\"\")\n",
    "\n",
    "    value, start, end = get_parameters_from_dictionary(file_content_dictionary, 14)\n",
    "\n",
    "    print(start, end)\n",
    "    file.replace(\".mp3\", \"\")\n",
    "\n",
    "    for idx, phone in enumerate(value):\n",
    "        saving_name = filename + \"_\" + phone\n",
    "\n",
    "        print(phone, float(start[idx]), float(end[idx]))\n",
    "        # callPraatScript(file, script_name, 0.125, 0.187, saving_folder, saving_name)\n",
    "\n",
    "        callPraatScript(file, script_name, float(start[idx]), float(end[idx]), saving_folder, saving_name)\n"
   ],
   "metadata": {
    "collapsed": false,
    "pycharm": {
     "name": "#%%\n"
    }
   }
  },
  {
   "cell_type": "code",
   "execution_count": 79,
   "outputs": [],
   "source": [],
   "metadata": {
    "collapsed": false,
    "pycharm": {
     "name": "#%%\n"
    }
   }
  },
  {
   "cell_type": "code",
   "execution_count": 96,
   "outputs": [
    {
     "name": "stdout",
     "output_type": "stream",
     "text": [
      "p\n",
      "0.125 0.187\n",
      "=======================\n",
      "a\n",
      "0.187 0.25\n",
      "=======================\n",
      "J\n",
      "0.25 0.312\n",
      "=======================\n",
      "a\n",
      "0.312 0.375\n",
      "=======================\n",
      "t\n",
      "0.375 0.5\n",
      "=======================\n",
      "a\n",
      "0.5 0.562\n",
      "=======================\n",
      "i\n",
      "0.562 0.625\n",
      "=======================\n",
      "t\n",
      "0.625 0.687\n",
      "=======================\n",
      "e\n",
      "0.687 0.812\n",
      "=======================\n",
      "a\n",
      "0.812 0.937\n",
      "=======================\n",
      "e\n",
      "0.937 1.0\n",
      "=======================\n",
      "f\n",
      "1.0 1.062\n",
      "=======================\n",
      "t\n",
      "1.062 1.137\n",
      "=======================\n",
      "e\n",
      "1.137 1.25\n",
      "=======================\n",
      "u\n",
      "1.25 1.312\n",
      "=======================\n",
      "p\n",
      "1.312 1.325\n",
      "=======================\n",
      "p\n",
      "1.325 1.375\n",
      "=======================\n",
      "o\n",
      "1.375 1.487\n",
      "=======================\n",
      "k\n",
      "1.487 1.562\n",
      "=======================\n",
      "o\n",
      "1.562 1.675\n",
      "=======================\n"
     ]
    }
   ],
   "source": [
    "n_file_lines = len(file_content_dictionary[\"time\"])\n",
    "\n",
    "for line in range(n_file_lines-1):\n",
    "    if file_content_dictionary[\"type\"][line] != \"word\":\n",
    "        print(file_content_dictionary[\"value\"][line])\n",
    "        start_time = (int(file_content_dictionary[\"time\"][line]))/1000\n",
    "        end_time = int((file_content_dictionary[\"time\"][line+1]))/1000\n",
    "        print(start_time, end_time)\n",
    "        print(\"=======================\")"
   ],
   "metadata": {
    "collapsed": false,
    "pycharm": {
     "name": "#%%\n"
    }
   }
  },
  {
   "cell_type": "code",
   "execution_count": 85,
   "metadata": {
    "collapsed": false,
    "jupyter": {
     "outputs_hidden": false
    },
    "pycharm": {
     "name": "#%%\n"
    }
   },
   "outputs": [],
   "source": []
  },
  {
   "cell_type": "code",
   "execution_count": 86,
   "metadata": {
    "collapsed": false,
    "jupyter": {
     "outputs_hidden": false
    },
    "pycharm": {
     "name": "#%%\n"
    }
   },
   "outputs": [
    {
     "ename": "PraatError",
     "evalue": "Cannot create file “C:\\Users\\albam\\OneDrive - UNIVERSIDAD DE HUELVA\\2. Universidad\\4º Curso\\1. 1º Cuatrimestre\\Procesamiento del Habla, Visión e Interacción Multimodal\\Proyecto\\Sintetizador Concatenativo de Difonos\\auxiliar\\tests\\test.wav”.\r\nSounds not concatenated and not saved to “C:\\Users\\albam\\OneDrive - UNIVERSIDAD DE HUELVA\\2. Universidad\\4º Curso\\1. 1º Cuatrimestre\\Procesamiento del Habla, Visión e Interacción Multimodal\\Proyecto\\Sintetizador Concatenativo de Difonos\\auxiliar\\tests\\test.wav”.\r\nScript line 88 not performed or completed:\r\n« Write to WAV file... 'intervalfile$' »\r\nScript not completed.\r",
     "output_type": "error",
     "traceback": [
      "\u001B[1;31m---------------------------------------------------------------------------\u001B[0m",
      "\u001B[1;31mPraatError\u001B[0m                                Traceback (most recent call last)",
      "Cell \u001B[1;32mIn[86], line 5\u001B[0m\n\u001B[0;32m      2\u001B[0m file_name \u001B[38;5;241m=\u001B[39m \u001B[38;5;124m\"\u001B[39m\u001B[38;5;124mFrases para Extracción de Difonos/Efre.mp3\u001B[39m\u001B[38;5;124m\"\u001B[39m\n\u001B[0;32m      3\u001B[0m script_name \u001B[38;5;241m=\u001B[39m \u001B[38;5;124m\"\u001B[39m\u001B[38;5;124mauxiliar/save_labeled_intervals_to_wav_sound_files.praat\u001B[39m\u001B[38;5;124m\"\u001B[39m\n\u001B[1;32m----> 5\u001B[0m \u001B[43mcallPraatScript\u001B[49m\u001B[43m(\u001B[49m\u001B[43mfile_name\u001B[49m\u001B[43m,\u001B[49m\u001B[43m \u001B[49m\u001B[43mscript_name\u001B[49m\u001B[43m,\u001B[49m\u001B[43m \u001B[49m\u001B[38;5;241;43m0.937\u001B[39;49m\u001B[43m,\u001B[49m\u001B[43m \u001B[49m\u001B[38;5;241;43m1\u001B[39;49m\u001B[43m)\u001B[49m\n",
      "Cell \u001B[1;32mIn[85], line 30\u001B[0m, in \u001B[0;36mcallPraatScript\u001B[1;34m(file_name, script_name, start_interval, end_interval)\u001B[0m\n\u001B[0;32m     27\u001B[0m objects \u001B[38;5;241m=\u001B[39m [tgt, snd]\n\u001B[0;32m     29\u001B[0m \u001B[38;5;66;03m# So the everything before the script (script_name) are selected objects, Everything after are arguments to this form\u001B[39;00m\n\u001B[1;32m---> 30\u001B[0m resulting_objects \u001B[38;5;241m=\u001B[39m \u001B[43mpraat\u001B[49m\u001B[38;5;241;43m.\u001B[39;49m\u001B[43mrun_file\u001B[49m\u001B[43m(\u001B[49m\u001B[43mobjects\u001B[49m\u001B[43m,\u001B[49m\u001B[43m \u001B[49m\u001B[43mscript_name\u001B[49m\u001B[43m,\u001B[49m\u001B[43m \u001B[49m\u001B[43mtier\u001B[49m\u001B[43m,\u001B[49m\u001B[43m \u001B[49m\u001B[43mStart_from\u001B[49m\u001B[43m,\u001B[49m\u001B[43m \u001B[49m\u001B[43mEnd_at\u001B[49m\u001B[43m,\u001B[49m\u001B[43m \u001B[49m\u001B[43mExclude_empty_labels\u001B[49m\u001B[43m,\u001B[49m\n\u001B[0;32m     31\u001B[0m \u001B[43m                                   \u001B[49m\u001B[43mExclude_intervals_labeled_as_xxx\u001B[49m\u001B[43m,\u001B[49m\u001B[43m \u001B[49m\u001B[43mExclude_intervals_starting_with_dot\u001B[49m\u001B[43m,\u001B[49m\n\u001B[0;32m     32\u001B[0m \u001B[43m                                   \u001B[49m\u001B[43mpositive_Margin\u001B[49m\u001B[43m,\u001B[49m\u001B[43m \u001B[49m\u001B[43msentence_Folder\u001B[49m\u001B[43m,\u001B[49m\u001B[43m \u001B[49m\u001B[43msentence_Prefix\u001B[49m\u001B[43m,\u001B[49m\u001B[43m \u001B[49m\u001B[43msentence_Suffix\u001B[49m\u001B[43m)\u001B[49m\n\u001B[0;32m     34\u001B[0m \u001B[38;5;66;03m# assert that resulting_objects its not empty\u001B[39;00m\n\u001B[0;32m     35\u001B[0m \u001B[38;5;66;03m# assert resulting_objects\u001B[39;00m\n\u001B[0;32m     36\u001B[0m \n\u001B[0;32m     37\u001B[0m \u001B[38;5;66;03m# if we want to save the results in the folder tests/Results_idx + .TextGrid\u001B[39;00m\n\u001B[0;32m     38\u001B[0m \u001B[38;5;124;03m'''for idx, resulting_object in enumerate(resulting_objects):\u001B[39;00m\n\u001B[0;32m     39\u001B[0m \u001B[38;5;124;03m    resulting_object.save(\"tests/result_\" + str(idx) + \".TextGrid\")\u001B[39;00m\n\u001B[0;32m     40\u001B[0m \n\u001B[0;32m     41\u001B[0m \u001B[38;5;124;03mreturn resulting_objects'''\u001B[39;00m\n",
      "\u001B[1;31mPraatError\u001B[0m: Cannot create file “C:\\Users\\albam\\OneDrive - UNIVERSIDAD DE HUELVA\\2. Universidad\\4º Curso\\1. 1º Cuatrimestre\\Procesamiento del Habla, Visión e Interacción Multimodal\\Proyecto\\Sintetizador Concatenativo de Difonos\\auxiliar\\tests\\test.wav”.\r\nSounds not concatenated and not saved to “C:\\Users\\albam\\OneDrive - UNIVERSIDAD DE HUELVA\\2. Universidad\\4º Curso\\1. 1º Cuatrimestre\\Procesamiento del Habla, Visión e Interacción Multimodal\\Proyecto\\Sintetizador Concatenativo de Difonos\\auxiliar\\tests\\test.wav”.\r\nScript line 88 not performed or completed:\r\n« Write to WAV file... 'intervalfile$' »\r\nScript not completed.\r"
     ]
    }
   ],
   "source": []
  },
  {
   "cell_type": "code",
   "execution_count": 86,
   "metadata": {
    "collapsed": false,
    "jupyter": {
     "outputs_hidden": false
    },
    "pycharm": {
     "name": "#%%\n"
    }
   },
   "outputs": [],
   "source": []
  },
  {
   "cell_type": "code",
   "execution_count": 6,
   "metadata": {
    "collapsed": false,
    "jupyter": {
     "outputs_hidden": false
    },
    "pycharm": {
     "name": "#%%\n"
    }
   },
   "outputs": [],
   "source": []
  },
  {
   "cell_type": "code",
   "execution_count": 43,
   "outputs": [],
   "source": [],
   "metadata": {
    "collapsed": false,
    "pycharm": {
     "name": "#%%\n"
    }
   }
  },
  {
   "cell_type": "code",
   "execution_count": null,
   "outputs": [],
   "source": [],
   "metadata": {
    "collapsed": false,
    "pycharm": {
     "name": "#%%\n"
    }
   }
  }
 ],
 "metadata": {
  "kernelspec": {
   "display_name": "Python 3 (ipykernel)",
   "language": "python",
   "name": "python3"
  },
  "language_info": {
   "codemirror_mode": {
    "name": "ipython",
    "version": 3
   },
   "file_extension": ".py",
   "mimetype": "text/x-python",
   "name": "python",
   "nbconvert_exporter": "python",
   "pygments_lexer": "ipython3",
   "version": "3.8.13"
  }
 },
 "nbformat": 4,
 "nbformat_minor": 4
}