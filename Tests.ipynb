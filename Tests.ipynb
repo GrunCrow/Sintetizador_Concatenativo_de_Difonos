{
 "cells": [
  {
   "cell_type": "markdown",
   "metadata": {
    "pycharm": {
     "name": "#%% md\n"
    }
   },
   "source": [
    "# Tests Notebook\n",
    "\n",
    "Notebook to develop the main code"
   ]
  },
  {
   "cell_type": "code",
   "execution_count": 1,
   "metadata": {
    "collapsed": false,
    "jupyter": {
     "outputs_hidden": false
    },
    "pycharm": {
     "name": "#%%\n"
    }
   },
   "outputs": [],
   "source": [
    "#                                   Libraries\n",
    "import os\n",
    "\n",
    "# to use praat\n",
    "import parselmouth\n",
    "from parselmouth import Sound, praat, TextGrid"
   ]
  },
  {
   "cell_type": "code",
   "execution_count": 51,
   "metadata": {
    "collapsed": false,
    "jupyter": {
     "outputs_hidden": false
    },
    "pycharm": {
     "name": "#%%\n"
    }
   },
   "outputs": [],
   "source": [
    "#                                   Constants\n",
    "corpus_folder = \"corpus/\"\n",
    "auxiliar_folder = \"auxiliar/\"\n",
    "labeled_intervals_to_wav = \"save_labeled_intervals_to_wav_sound_files.praat\"\n",
    "\n",
    "variable = \"test\" # variable de test para probar git push\n",
    "\n",
    "file_name = \"auxiliar/manipular-pitch/12345.wav\"\n",
    "script_name = \"auxiliar/save_labeled_intervals_to_wav_sound_files.praat\""
   ]
  },
  {
   "cell_type": "code",
   "execution_count": 52,
   "metadata": {
    "collapsed": false,
    "jupyter": {
     "outputs_hidden": false
    },
    "pycharm": {
     "name": "#%%\n"
    }
   },
   "outputs": [],
   "source": [
    "assert os.path.exists(file_name) and os.path.exists(script_name), \"ERROR\""
   ]
  },
  {
   "cell_type": "code",
   "execution_count": 52,
   "outputs": [],
   "source": [],
   "metadata": {
    "collapsed": false,
    "pycharm": {
     "name": "#%%\n"
    }
   }
  },
  {
   "cell_type": "code",
   "execution_count": 53,
   "outputs": [
    {
     "data": {
      "text/plain": "{'time': '125', 'type': 'viseme', 'start': '0', 'end': '7', 'value': 'p'}"
     },
     "execution_count": 53,
     "metadata": {},
     "output_type": "execute_result"
    }
   ],
   "source": [
    "# Content of file be like:\n",
    "# {\"time\":125,\"type\":\"word\",\"start\":0,\"end\":7,\"value\":\"Mañana\"}\n",
    "# {\"time\":125,\"type\":\"viseme\",\"value\":\"p\"}\n",
    "# {\"time\":187,\"type\":\"viseme\",\"value\":\"a\"}\n",
    "# {\"time\":250,\"type\":\"viseme\",\"value\":\"J\"}\n",
    "\n",
    "# how we are going to split the data of the file\n",
    "file_content_dictionary = {\n",
    "    0 : \"time\",\n",
    "    1 : \"type\",\n",
    "    2 : \"start\",\n",
    "    3 : \"end\",\n",
    "    4 : \"value\"\n",
    "}\n",
    "\n",
    "file_content_dictionary2 = {\n",
    "    \"time\": None,\n",
    "    \"type\": None,\n",
    "    \"start\": None,\n",
    "    \"end\": None,\n",
    "    \"value\": None\n",
    "}\n",
    "\n",
    "test_str = \"{\\\"time\\\":125,\\\"type\\\":\\\"word\\\",\\\"start\\\":0,\\\"end\\\":7,\\\"value\\\":\\\"Mañana\\\"}\"\n",
    "test_str_2 = \"{\\\"time\\\":125,\\\"type\\\":\\\"viseme\\\",\\\"value\\\":\\\"p\\\"}\"\n",
    "test_str_3 = {\"time\":125,\"type\":\"viseme\",\"value\":\"p\"}\n",
    "test_str_4 = {\"time\":187,\"type\":\"viseme\",\"value\":\"a\"}\n",
    "test_str_5 = {\"time\":250,\"type\":\"viseme\",\"value\":\"J\"}\n",
    "\n",
    "test_strs = [test_str, test_str_2]\n",
    "\n",
    "for string in test_strs:\n",
    "    # clean characters that we dont want to use\n",
    "    string = string.replace(\"{\",\"\")\n",
    "    string = string.replace(\"}\",\"\")\n",
    "    string = string.replace(\"\\\"\",\"\")\n",
    "\n",
    "    # split by each value\n",
    "    str_content = string.split(\",\")\n",
    "\n",
    "    for idx, content in enumerate(str_content):\n",
    "        # if we have \"time\":125 we will save the value of the str (125), as we are separating it in 2, by the :\n",
    "        content_key_from_dict = str_content[idx].split(\":\")[0]\n",
    "        content_value = str_content[idx].split(\":\")[1]\n",
    "        file_content_dictionary2[content_key_from_dict] = content_value\n",
    "\n",
    "file_content_dictionary2"
   ],
   "metadata": {
    "collapsed": false,
    "pycharm": {
     "name": "#%%\n"
    }
   }
  },
  {
   "cell_type": "code",
   "execution_count": 64,
   "metadata": {
    "collapsed": false,
    "jupyter": {
     "outputs_hidden": false
    },
    "pycharm": {
     "name": "#%%\n"
    }
   },
   "outputs": [],
   "source": [
    "def callPraatScript(file_name, script_name, start_interval, end_interval):\n",
    "    # Check that all the parameters exists\n",
    "    assert os.path.exists(file_name) and os.path.exists(script_name), \"ERROR\"\n",
    "\n",
    "    # constant parameters for the script\n",
    "    tier = 1  # (int) Which IntervalTier in this TextGrid would you like to process?\n",
    "    Start_from = start_interval  # (int) Starting at which interval?\n",
    "    End_at = end_interval  # (int) ending at which interval?\n",
    "    Exclude_empty_labels = True  # (boolean)\n",
    "    Exclude_intervals_labeled_as_xxx = True  # (boolean)\n",
    "    Exclude_intervals_starting_with_dot = True  # (boolean)\n",
    "    positive_Margin = 0.0001  # (float) Give a small margin for the files if you like (seconds)\n",
    "    sentence_Folder = \"tests/\"  # Give the folder where to save the sound files\n",
    "    sentence_Prefix = \"test\"  # Give an optional prefix for all filenames:\n",
    "    sentence_Suffix = \"\"  # Give an optional suffix for all filenames (.wav will be added anyway):\n",
    "\n",
    "    # parameters = [tier, Start_from, End_at, Exclude_empty_labels, Exclude_intervals_labeled_as_xxx,\n",
    "    #              Exclude_intervals_starting_with_dot, positive_Margin, sentence_Folder, sentence_Prefix,\n",
    "    #              sentence_Suffix]\n",
    "\n",
    "    snd = Sound(file_name)\n",
    "    # snd.save(\"tests/test.wav\",\"WAV\")\n",
    "\n",
    "    tgt = TextGrid(start_interval, end_interval, \"Mary John bell\", \"bell\")\n",
    "    # tgt.save(\"tests/test.TextGrid\")\n",
    "\n",
    "    objects = [tgt, snd]\n",
    "\n",
    "    # So the everything before the script (script_name) are selected objects, Everything after are arguments to this form\n",
    "    resulting_objects = praat.run_file(objects, script_name, tier, Start_from, End_at, Exclude_empty_labels,\n",
    "                                       Exclude_intervals_labeled_as_xxx, Exclude_intervals_starting_with_dot,\n",
    "                                       positive_Margin, sentence_Folder, sentence_Prefix, sentence_Suffix)\n",
    "\n",
    "    # assert that resulting_objects its not empty\n",
    "    # assert resulting_objects\n",
    "\n",
    "    # if we want to save the results in the folder tests/Results_idx + .TextGrid\n",
    "    '''for idx, resulting_object in enumerate(resulting_objects):\n",
    "        resulting_object.save(\"tests/result_\" + str(idx) + \".TextGrid\")\n",
    "\n",
    "    return resulting_objects'''"
   ]
  },
  {
   "cell_type": "code",
   "execution_count": 65,
   "metadata": {
    "collapsed": false,
    "jupyter": {
     "outputs_hidden": false
    },
    "pycharm": {
     "name": "#%%\n"
    }
   },
   "outputs": [],
   "source": [
    "# test the function\n",
    "file_name = \"Frases para Extracción de Difonos/Efre.mp3\"\n",
    "script_name = \"auxiliar/save_labeled_intervals_to_wav_sound_files.praat\"\n",
    "\n",
    "callPraatScript(file_name, script_name, 0.937, 1)"
   ]
  },
  {
   "cell_type": "code",
   "execution_count": 6,
   "metadata": {
    "collapsed": false,
    "jupyter": {
     "outputs_hidden": false
    },
    "pycharm": {
     "name": "#%%\n"
    }
   },
   "outputs": [],
   "source": []
  },
  {
   "cell_type": "code",
   "execution_count": 6,
   "metadata": {
    "collapsed": false,
    "jupyter": {
     "outputs_hidden": false
    },
    "pycharm": {
     "name": "#%%\n"
    }
   },
   "outputs": [],
   "source": []
  },
  {
   "cell_type": "code",
   "execution_count": 43,
   "outputs": [],
   "source": [
    "def callPraatScript(file_name, script_name=auxiliar_folder + labeled_intervals_to_wav):\n",
    "    # Check that all the parameters exists\n",
    "\n",
    "    # os.system(\"Praat.exe \" + script_name + \" \" + file_name)\n",
    "    resulting_objects = parselmouth.praat.run_file(script_name, file_name)\n",
    "\n",
    "    return resulting_objects"
   ],
   "metadata": {
    "collapsed": false,
    "pycharm": {
     "name": "#%%\n"
    }
   }
  },
  {
   "cell_type": "code",
   "execution_count": null,
   "outputs": [],
   "source": [],
   "metadata": {
    "collapsed": false,
    "pycharm": {
     "name": "#%%\n"
    }
   }
  }
 ],
 "metadata": {
  "kernelspec": {
   "display_name": "Python 3 (ipykernel)",
   "language": "python",
   "name": "python3"
  },
  "language_info": {
   "codemirror_mode": {
    "name": "ipython",
    "version": 3
   },
   "file_extension": ".py",
   "mimetype": "text/x-python",
   "name": "python",
   "nbconvert_exporter": "python",
   "pygments_lexer": "ipython3",
   "version": "3.8.13"
  }
 },
 "nbformat": 4,
 "nbformat_minor": 4
}